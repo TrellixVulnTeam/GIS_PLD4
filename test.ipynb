{
 "cells": [
  {
   "cell_type": "code",
   "execution_count": null,
   "metadata": {
    "collapsed": true
   },
   "outputs": [],
   "source": [
    "import requests\n",
    "\n",
    "web_scrape_url = 'https://geocoding.geo.census.gov/geocoder/geographies/address?'\n",
    "\n",
    "\n",
    "params = {\n",
    "    'benchmark': 'Public_AR_Current',\n",
    "    'vintage':'Current_Current',\n",
    "    'street': '35 Greycliff Rd.',\n",
    "    'city': 'Boston ',\n",
    "    'state': 'MA',\n",
    "    'format':'json'\n",
    "}\n",
    "# Do the request and get the response data\n",
    "req = requests.get(web_scrape_url, params=params)\n",
    "str = req.json()\n",
    "dictionary = (str['result']['addressMatches'])\n",
    "\n",
    "print(str)\n",
    "print(dictionary)"
   ]
  }
 ],
 "metadata": {
  "kernelspec": {
   "display_name": "Python 2",
   "language": "python",
   "name": "python2"
  },
  "language_info": {
   "codemirror_mode": {
    "name": "ipython",
    "version": 2
   },
   "file_extension": ".py",
   "mimetype": "text/x-python",
   "name": "python",
   "nbconvert_exporter": "python",
   "pygments_lexer": "ipython2",
   "version": "2.7.6"
  }
 },
 "nbformat": 4,
 "nbformat_minor": 0
}
