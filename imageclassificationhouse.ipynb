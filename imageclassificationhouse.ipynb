{
 "cells": [
  {
   "cell_type": "code",
   "execution_count": 1,
   "metadata": {
    "collapsed": false
   },
   "outputs": [
    {
     "name": "stdout",
     "output_type": "stream",
     "text": [
      "['C:/Users/Joe/Documents/BIC_GSV/Building_labeled_train_data/apartment/apartment_0000.jpg', 'C:/Users/Joe/Documents/BIC_GSV/Building_labeled_train_data/apartment/apartment_0001.jpg', 'C:/Users/Joe/Documents/BIC_GSV/Building_labeled_train_data/apartment/apartment_0002.jpg', 'C:/Users/Joe/Documents/BIC_GSV/Building_labeled_train_data/apartment/apartment_0003.jpg', 'C:/Users/Joe/Documents/BIC_GSV/Building_labeled_train_data/apartment/apartment_0004.jpg', 'C:/Users/Joe/Documents/BIC_GSV/Building_labeled_train_data/apartment/apartment_0005.jpg', 'C:/Users/Joe/Documents/BIC_GSV/Building_labeled_train_data/apartment/apartment_0006.jpg', 'C:/Users/Joe/Documents/BIC_GSV/Building_labeled_train_data/apartment/apartment_0007.jpg', 'C:/Users/Joe/Documents/BIC_GSV/Building_labeled_train_data/apartment/apartment_0008.jpg', 'C:/Users/Joe/Documents/BIC_GSV/Building_labeled_train_data/apartment/apartment_0009.jpg']\n"
     ]
    },
    {
     "name": "stdout",
     "output_type": "stream",
     "text": [
      "Done\n"
     ]
    },
    {
     "name": "stdout",
     "output_type": "stream",
     "text": [
      "Done\n"
     ]
    },
    {
     "name": "stdout",
     "output_type": "stream",
     "text": [
      "Done\n"
     ]
    },
    {
     "name": "stdout",
     "output_type": "stream",
     "text": [
      "Done\n"
     ]
    },
    {
     "name": "stdout",
     "output_type": "stream",
     "text": [
      "Done\n"
     ]
    },
    {
     "name": "stdout",
     "output_type": "stream",
     "text": [
      "Done\n"
     ]
    },
    {
     "name": "stdout",
     "output_type": "stream",
     "text": [
      "Done\n"
     ]
    },
    {
     "name": "stdout",
     "output_type": "stream",
     "text": [
      "Done\n"
     ]
    },
    {
     "name": "stdout",
     "output_type": "stream",
     "text": [
      "Done\n"
     ]
    },
    {
     "name": "stdout",
     "output_type": "stream",
     "text": [
      "Done\n"
     ]
    },
    {
     "name": "stdout",
     "output_type": "stream",
     "text": [
      "Done\n"
     ]
    },
    {
     "name": "stdout",
     "output_type": "stream",
     "text": [
      "Done\n"
     ]
    },
    {
     "name": "stdout",
     "output_type": "stream",
     "text": [
      "Done\n"
     ]
    },
    {
     "name": "stdout",
     "output_type": "stream",
     "text": [
      "Done\n"
     ]
    },
    {
     "name": "stdout",
     "output_type": "stream",
     "text": [
      "Done\n"
     ]
    },
    {
     "name": "stdout",
     "output_type": "stream",
     "text": [
      "Done\n"
     ]
    },
    {
     "name": "stdout",
     "output_type": "stream",
     "text": [
      "Done\n"
     ]
    },
    {
     "name": "stdout",
     "output_type": "stream",
     "text": [
      "Done\nDone\n"
     ]
    }
   ],
   "source": [
    "#parse training data\n",
    "\n",
    "from skimage import io\n",
    "import numpy as np\n",
    "from scipy import sparse\n",
    "from random import shuffle\n",
    "import os\n",
    "rootpath = r'C:/Users/Joe/Documents/BIC_GSV/Building_labeled_train_data/'\n",
    "\n",
    "\n",
    "filelist = []\n",
    "for category in os.listdir(rootpath):\n",
    "    try:\n",
    "        folderpath = rootpath + category + '/'\n",
    "        for image_path in os.listdir(folderpath):\n",
    "            filelist.append(folderpath + image_path)\n",
    "    except:\n",
    "        pass\n",
    "print(filelist[:10])\n",
    "    # try:\n",
    "    #     path = rootpath + folder + '/'\n",
    "    #     all_images = []\n",
    "    #     for image_path in os.listdir(path):\n",
    "    #       img = io.imread(path + image_path)\n",
    "    #       img = img.reshape([512, 512, 3])\n",
    "    #       all_images.append(img)\n",
    "    #     x_train = np.array(all_images)\n",
    "    #     np.savez(rootpath + folder + '.npz', x_train=x_train)\n",
    "    #     print('Done')\n",
    "    # except:\n",
    "    #     pass\n",
    "    \n",
    "shuffle(filelist)\n",
    "\n",
    "rootpath = r'C:/Users/Joe/Documents/BIC_GSV/Building_labeled_train_data/'\n",
    "for n in range(19):\n",
    "    training_data = []\n",
    "    name = 'chunk_' + str(n)\n",
    "    for image in filelist[1000*n:1000*n+1000]:\n",
    "        label = image.split('/')[-1].split('_')[0]\n",
    "        path = image\n",
    "        img = io.imread(path).reshape([512, 512, 3])\n",
    "        training_data.append([np.array(img), np.array(label)])\n",
    "    np.savez(rootpath + 'train_data' + name + '.npz',training_data)\n",
    "    print('Done')"
   ]
  },
  {
   "cell_type": "code",
   "execution_count": 32,
   "metadata": {},
   "outputs": [
    {
     "name": "stdout",
     "output_type": "stream",
     "text": [
      "C:/Users/Joe/Documents/BIC_GSV/Building_labeled_test_data/apartment/cleveland_BdIdx_12278_BdType_apartments.jpg\n"
     ]
    },
    {
     "name": "stdout",
     "output_type": "stream",
     "text": [
      "Done\n"
     ]
    },
    {
     "name": "stdout",
     "output_type": "stream",
     "text": [
      "Done\n"
     ]
    },
    {
     "name": "stdout",
     "output_type": "stream",
     "text": [
      "Done\nDone\nDone\nDone\nDone\nDone\nDone\nDone\nDone\nDone\nDone\nDone\nDone\nDone\nDone\nDone\n"
     ]
    }
   ],
   "source": [
    "#parse test data for later \n",
    "\n",
    "from skimage import io\n",
    "import numpy as np\n",
    "from scipy import sparse\n",
    "from random import shuffle\n",
    "import os\n",
    "rootpath = r'C:/Users/Joe/Documents/BIC_GSV/Building_labeled_test_data/'\n",
    "\n",
    "\n",
    "filelist = []\n",
    "for category in os.listdir(rootpath):\n",
    "    try:\n",
    "        folderpath = rootpath + category + '/'\n",
    "        for image_path in os.listdir(folderpath):\n",
    "            filelist.append(folderpath + image_path)\n",
    "    except:\n",
    "        pass\n",
    "print(filelist[0])\n",
    "    # try:\n",
    "    #     path = rootpath + folder + '/'\n",
    "    #     all_images = []\n",
    "    #     for image_path in os.listdir(path):\n",
    "    #       img = io.imread(path + image_path)\n",
    "    #       img = img.reshape([512, 512, 3])\n",
    "    #       all_images.append(img)\n",
    "    #     x_train = np.array(all_images)\n",
    "    #     np.savez(rootpath + folder + '.npz', x_train=x_train)\n",
    "    #     print('Done')\n",
    "    # except:\n",
    "    #     pass\n",
    "    \n",
    "shuffle(filelist)\n",
    "\n",
    "for n in range(18):\n",
    "    training_data = []\n",
    "    name = 'chunk_' + str(n)\n",
    "    for image in filelist[1000*n:1000*n+1000]:\n",
    "        label = image.split('/')[-1].split('_')[0]\n",
    "        path = image\n",
    "        img = io.imread(path).reshape([512, 512, 3])\n",
    "        training_data.append([np.array(img), np.array(label)])\n",
    "    np.savez(rootpath + 'test_data' + name + '.npz',training_data)\n",
    "    print('Done')"
   ]
  },
  {
   "cell_type": "code",
   "execution_count": null,
   "metadata": {},
   "outputs": [],
   "source": [
    ""
   ]
  },
  {
   "cell_type": "code",
   "execution_count": null,
   "metadata": {},
   "outputs": [],
   "source": [
    ""
   ]
  },
  {
   "cell_type": "code",
   "execution_count": 22,
   "metadata": {},
   "outputs": [],
   "source": [
    "\n"
   ]
  },
  {
   "cell_type": "code",
   "execution_count": 23,
   "metadata": {},
   "outputs": [],
   "source": [
    ""
   ]
  },
  {
   "cell_type": "code",
   "execution_count": 1,
   "metadata": {},
   "outputs": [],
   "source": [
    ""
   ]
  },
  {
   "cell_type": "code",
   "execution_count": null,
   "metadata": {},
   "outputs": [],
   "source": []
  }
 ],
 "metadata": {
  "kernelspec": {
   "display_name": "Python 2",
   "language": "python",
   "name": "python2"
  },
  "language_info": {
   "codemirror_mode": {
    "name": "ipython",
    "version": 2
   },
   "file_extension": ".py",
   "mimetype": "text/x-python",
   "name": "python",
   "nbconvert_exporter": "python",
   "pygments_lexer": "ipython2",
   "version": "2.7.6"
  }
 },
 "nbformat": 4,
 "nbformat_minor": 0
}
