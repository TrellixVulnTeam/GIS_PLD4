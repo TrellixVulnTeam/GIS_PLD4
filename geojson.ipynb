{
 "cells": [
  {
   "cell_type": "code",
   "execution_count": 3,
   "metadata": {
    "collapsed": true
   },
   "outputs": [
    {
     "name": "stdout",
     "output_type": "stream",
     "text": [
      "C:/Users/Joe/Documents/BIC_GSV/Building_labeled_train_data/apartment/apartment_0000.jpg\n"
     ]
    }
   ],
   "source": [
    "#import keras\n",
    "#mport tensorflow\n",
    "import numpy as np\n",
    "import os \n",
    "#import skimage\n",
    "#from skimage import io\n",
    "\n",
    "rootpath = r'C:/Users/Joe/Documents/BIC_GSV/Building_labeled_train_data/'\n",
    "\n",
    "\n",
    "filelist = []\n",
    "for category in os.listdir(rootpath):\n",
    "    try:\n",
    "        folderpath = rootpath + category + '/'\n",
    "        for image_path in os.listdir(folderpath):\n",
    "            filelist.append(folderpath + image_path)\n",
    "    except:\n",
    "        pass\n",
    "print(filelist[0])\n",
    "    # try:\n",
    "    #     path = rootpath + folder + '/'\n",
    "    #     all_images = []\n",
    "    #     for image_path in os.listdir(path):\n",
    "    #       img = io.imread(path + image_path)\n",
    "    #       img = img.reshape([512, 512, 3])\n",
    "    #       all_images.append(img)\n",
    "    #     x_train = np.array(all_images)\n",
    "    #     np.savez(rootpath + folder + '.npz', x_train=x_train)\n",
    "    #     print('Done')\n",
    "    # except:\n",
    "    #     pass"
   ]
  },
  {
   "cell_type": "code",
   "execution_count": 1,
   "metadata": {},
   "outputs": [
    {
     "name": "stdout",
     "output_type": "stream",
     "text": [
      "hello\n"
     ]
    }
   ],
   "source": [
    "print('hellefo')"
   ]
  },
  {
   "cell_type": "code",
   "execution_count": null,
   "metadata": {},
   "outputs": [],
   "source": []
  }
 ],
 "metadata": {
  "kernelspec": {
   "display_name": "Python 2",
   "language": "python",
   "name": "python2"
  },
  "language_info": {
   "codemirror_mode": {
    "name": "ipython",
    "version": 2
   },
   "file_extension": ".py",
   "mimetype": "text/x-python",
   "name": "python",
   "nbconvert_exporter": "python",
   "pygments_lexer": "ipython2",
   "version": "2.7.6"
  }
 },
 "nbformat": 4,
 "nbformat_minor": 0
}
